{
 "cells": [
  {
   "cell_type": "markdown",
   "metadata": {},
   "source": [
    "This notebook contains code for randomly selecting violations for evaluation by legal experts.\n",
    "\n",
    "The second part of the work project involves using NLP and machine learning to offer suggestions of similar violations during a violation analysis. To evaluate the accuracy of the algorithms, a sample of infractions is selected at random and pairs are formed to assess experts for similarity on a scale of 1 (slightly similar infractions) to 10 (very similar infractions).\n",
    "\n",
    "This assessment will be considered the standard against which the quality of the algorithms will be assessed."
   ]
  },
  {
   "cell_type": "code",
   "execution_count": 4,
   "metadata": {},
   "outputs": [],
   "source": [
    "# Load the necessary libraries\n",
    "\n",
    "import nltk\n",
    "import pandas as pd\n",
    "import sqlalchemy as sal\n",
    "from itertools import combinations"
   ]
  },
  {
   "cell_type": "code",
   "execution_count": 5,
   "metadata": {},
   "outputs": [],
   "source": [
    "# Create the database connection\n",
    "\n",
    "engine = sal.create_engine('mssql+pyodbc://LAPTOP-NNDGMEMB/beth?driver=ODBC+Driver+13+for+SQL+Server?Trusted_Connection=yes')\n",
    "conn = engine.connect()\n",
    "data = pd.read_sql_table('violations_content', conn)"
   ]
  },
  {
   "cell_type": "code",
   "execution_count": 6,
   "metadata": {},
   "outputs": [],
   "source": [
    "# Remove the rows in which the document content is null.\n",
    "# It happens when documents (documentoId) iniatilly loaded into 'violations_content'\n",
    "# can't have their content retrieved (e.g. PDF that can't be parsed by PDFMiner)\n",
    "\n",
    "data = data[~data['docContSplitted'].isna()]"
   ]
  },
  {
   "cell_type": "code",
   "execution_count": 7,
   "metadata": {},
   "outputs": [],
   "source": [
    "# possible 'serieId' for documents that represent the initial document in a violation process\n",
    "\n",
    "#serieId  serieNome                     \n",
    "#344      REPRESENTAÇÃO - Eletrônica        887\n",
    "#42       DEFESA                            405\n",
    "#381      RECLAMAÇÃO - Atendimento SUSEP    151\n",
    "#173      REPRESENTAÇÃO                      49\n",
    "#341      AUTO - Infração Eletrônico         18\n",
    "#61       RECLAMAÇÃO                         12\n",
    "#45       DENÚNCIA                            1\n",
    "\n",
    "initial_docs = [173,  344, 341, 381,  61,  45]"
   ]
  },
  {
   "cell_type": "code",
   "execution_count": 8,
   "metadata": {},
   "outputs": [],
   "source": [
    "# filter the dataframe to keep only one document per violation and remove 'DEFESA'\n",
    "\n",
    "data_orig = data.loc[data['serieId'].isin(initial_docs),:]\n",
    "data_orig = data_orig.sort_values(by='documentoId', ascending=False)\n",
    "data_orig = data_orig.drop_duplicates(subset='infracaoId', keep='first')"
   ]
  },
  {
   "cell_type": "code",
   "execution_count": 12,
   "metadata": {},
   "outputs": [],
   "source": [
    "columnsToKeep = ['infracaoId', 'faltaDescr', 'dispositivoInfringido', 'docContSplitted']"
   ]
  },
  {
   "cell_type": "code",
   "execution_count": 13,
   "metadata": {},
   "outputs": [],
   "source": [
    "dataToSelect = data_orig[columnsToKeep]"
   ]
  },
  {
   "cell_type": "code",
   "execution_count": 20,
   "metadata": {},
   "outputs": [],
   "source": [
    "dataSelected = dataToSelect.sample(n=50, replace=False, random_state=123)"
   ]
  },
  {
   "cell_type": "code",
   "execution_count": 29,
   "metadata": {},
   "outputs": [],
   "source": [
    "vioCombinations = pd.DataFrame(columns=['Inf A','Inf B'])"
   ]
  },
  {
   "cell_type": "code",
   "execution_count": 36,
   "metadata": {},
   "outputs": [],
   "source": [
    "for i in combinations(dataSelected['infracaoId'],2):\n",
    "    vioCombinations = vioCombinations.append(pd.Series(i, index=vioCombinations.columns), ignore_index=True)"
   ]
  },
  {
   "cell_type": "code",
   "execution_count": 38,
   "metadata": {},
   "outputs": [],
   "source": [
    "vioCombinations.to_excel('vioCombinations.xlsx')"
   ]
  },
  {
   "cell_type": "code",
   "execution_count": 39,
   "metadata": {},
   "outputs": [],
   "source": [
    "dataSelected.to_excel('vioWithData.xlsx')"
   ]
  },
  {
   "cell_type": "code",
   "execution_count": null,
   "metadata": {},
   "outputs": [],
   "source": []
  }
 ],
 "metadata": {
  "kernelspec": {
   "display_name": "Python 3.7.3 64-bit ('base': conda)",
   "language": "python",
   "name": "python37364bitbaseconda5dd246348cf941cf8c03462591923299"
  },
  "language_info": {
   "codemirror_mode": {
    "name": "ipython",
    "version": 3
   },
   "file_extension": ".py",
   "mimetype": "text/x-python",
   "name": "python",
   "nbconvert_exporter": "python",
   "pygments_lexer": "ipython3",
   "version": "3.7.9"
  }
 },
 "nbformat": 4,
 "nbformat_minor": 4
}
